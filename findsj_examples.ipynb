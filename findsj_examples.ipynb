{
 "cells": [
  {
   "cell_type": "markdown",
   "id": "2929ca1a",
   "metadata": {},
   "source": [
    "# findsj Examples\n",
    "\n",
    "Examples demonstrating all features of the findsj command\n",
    "\n",
    "**Version:** 1.0.3 (2025/10/22)  \n",
    "**Authors:** Yujun Lian (arlionn@163.com), Chucheng Wan (chucheng.wan@outlook.com)\n",
    "\n",
    "---"
   ]
  },
  {
   "cell_type": "markdown",
   "id": "80aef9e9",
   "metadata": {},
   "source": [
    "## Example 1: Basic keyword search\n",
    "\n",
    "Search for articles about \"regression\""
   ]
  },
  {
   "cell_type": "code",
   "execution_count": 9,
   "id": "ac2b6fe3",
   "metadata": {
    "vscode": {
     "languageId": "python"
    }
   },
   "outputs": [
    {
     "name": "stdout",
     "output_type": "stream",
     "text": [
      "\n",
      "------------------------------------------------------------\n",
      "  Searching Stata Journal articles...\n",
      "  Keywords: regression\n",
      "  Search by: keyword\n",
      "------------------------------------------------------------\n",
      "\n",
      "Found 250 article(s).\n",
      "\n",
      "------------------------------------------------------------\n",
      "  Search Results (Showing 5 of 250)\n",
      "------------------------------------------------------------\n",
      "\n",
      "[1] M. Lokshin and Z. Sajaia. 2008. (). \n",
      "    Creating print-ready tables in Stata\n",
      "    _Stata Journal_ 8(3)\n",
      "    Article page | [PDF] | [Google]\n",
      "\n",
      "    📚 Citation: BibTeX | RIS\n",
      "\n",
      "    Search for package | Browse SJ software\n",
      "[2] P. W. Jeanty. 2010. (). \n",
      "    Using the world development indicators database for statistical analysis in\n",
      ">  Stata\n",
      "    _Stata Journal_ 10(1)\n",
      "    Article page | [PDF] | [Google]\n",
      "\n",
      "    📚 Citation: BibTeX | RIS\n",
      "\n",
      "    Search for package | Browse SJ software\n",
      "[3] C. Schwarz. 2023. (). \n",
      "    Estimating text regressions using txtreg_train\n",
      "    _Stata Journal_ 23(3)\n",
      "    Article page | [PDF] | [Google]\n",
      "\n",
      "    📚 Citation: BibTeX | RIS\n",
      "\n",
      "    Search for package | Browse SJ software\n",
      "[4] J. Hendrickx. 2002. (). \n",
      "    Review of Regression Models for Categorical Dependent Variables Using Stata\n",
      ">  by Long and Freese\n",
      "    _Stata Journal_ 2(1)\n",
      "    Article page | [PDF] | [Google]\n",
      "\n",
      "    📚 Citation: BibTeX | RIS\n",
      "\n",
      "    Search for package | Browse SJ software\n",
      "[5] D. W. Hosmer. 2002. (). \n",
      "    Review of An Introduction to Survival Analysis Using Stata\n",
      "    _Stata Journal_ 2(4)\n",
      "    Article page | [PDF] | [Google]\n",
      "\n",
      "    📚 Citation: BibTeX | RIS\n",
      "\n",
      "    Search for package | Browse SJ software\n",
      "\n",
      "------------------------------------------------------------\n",
      "  Showing 5 of 250 results.\n",
      "  To see all results, add option: allresults\n",
      "  Example: findsj regression, allresults\n",
      "------------------------------------------------------------\n",
      "\n",
      "------------------------------------------------------------\n",
      "  Search completed. Found 250 article(s).\n",
      "  To view full search results online: Open in browser\n",
      "------------------------------------------------------------\n",
      "\n"
     ]
    }
   ],
   "source": [
    "findsj regression"
   ]
  },
  {
   "cell_type": "markdown",
   "id": "a9293fe9",
   "metadata": {},
   "source": [
    "## Example 2: Search with multiple keywords\n",
    "\n",
    "Search for articles about \"panel data\""
   ]
  },
  {
   "cell_type": "code",
   "execution_count": 10,
   "id": "23ae5d77",
   "metadata": {
    "vscode": {
     "languageId": "python"
    }
   },
   "outputs": [
    {
     "name": "stdout",
     "output_type": "stream",
     "text": [
      "\n",
      "------------------------------------------------------------\n",
      "  Searching Stata Journal articles...\n",
      "  Keywords: panel data\n",
      "  Search by: keyword\n",
      "------------------------------------------------------------\n",
      "\n"
     ]
    },
    {
     "name": "stdout",
     "output_type": "stream",
     "text": [
      "Found 69 article(s).\n",
      "\n",
      "------------------------------------------------------------\n",
      "  Search Results (Showing 5 of 69)\n",
      "------------------------------------------------------------\n",
      "\n",
      "[1] N. J. Cox. 2007. (). \n",
      "    Speaking Stata: Identifying spells\n",
      "    _Stata Journal_ 7(2)\n",
      "    Article page | [PDF] | [Google]\n",
      "\n",
      "    📚 Citation: BibTeX | RIS\n",
      "\n",
      "    Search for package | Browse SJ software\n",
      "[2] P. W. Jeanty. 2010. (). \n",
      "    Using the world development indicators database for statistical analysis in\n",
      ">  Stata\n",
      "    _Stata Journal_ 10(1)\n",
      "    Article page | [PDF] | [Google]\n",
      "\n",
      "    📚 Citation: BibTeX | RIS\n",
      "\n",
      "    Search for package | Browse SJ software\n",
      "[3] P. W. Jeanty. 2011. (). \n",
      "    Managing the U.S. Census 2000 and World Development Indicators databases fo\n",
      "> r statistical analysis in Stata\n",
      "    _Stata Journal_ 11(4)\n",
      "    Article page | [PDF] | [Google]\n",
      "\n",
      "    📚 Citation: BibTeX | RIS\n",
      "\n",
      "    Search for package | Browse SJ software\n",
      "[4] P. Wilner Jeanty. 2013. (). \n",
      "    Dealing with identifier variables in data management and analysis\n",
      "    _Stata Journal_ 13(4)\n",
      "    Article page | [PDF] | [Google]\n",
      "\n",
      "    📚 Citation: BibTeX | RIS\n",
      "\n",
      "    Search for package | Browse SJ software\n",
      "[5] N. J. Cox. 2016. (). \n",
      "    Speaking Stata: Truth, falsity, indication, and negation\n",
      "    _Stata Journal_ 16(1)\n",
      "    Article page | [PDF] | [Google]\n",
      "\n",
      "    📚 Citation: BibTeX | RIS\n",
      "\n",
      "    Search for package | Browse SJ software\n",
      "\n",
      "------------------------------------------------------------\n",
      "  Showing 5 of 69 results.\n",
      "  To see all results, add option: allresults\n",
      "  Example: findsj panel data, allresults\n",
      "------------------------------------------------------------\n",
      "\n",
      "------------------------------------------------------------\n",
      "  Search completed. Found 69 article(s).\n",
      "  To view full search results online: Open in browser\n",
      "------------------------------------------------------------\n",
      "\n"
     ]
    }
   ],
   "source": [
    "findsj panel data"
   ]
  },
  {
   "cell_type": "markdown",
   "id": "a5e17396",
   "metadata": {},
   "source": [
    "## Example 3: Limit number of results\n",
    "\n",
    "Show only top 3 results for \"machine learning\""
   ]
  },
  {
   "cell_type": "code",
   "execution_count": 11,
   "id": "9d8c3e12",
   "metadata": {
    "vscode": {
     "languageId": "python"
    }
   },
   "outputs": [
    {
     "name": "stdout",
     "output_type": "stream",
     "text": [
      "\n",
      "------------------------------------------------------------\n",
      "  Searching Stata Journal articles...\n",
      "  Keywords: machine learning\n",
      "  Search by: keyword\n",
      "------------------------------------------------------------\n",
      "\n",
      "Found 10 article(s).\n",
      "\n",
      "------------------------------------------------------------\n",
      "  Search Results (Showing 3 of 10)\n",
      "------------------------------------------------------------\n",
      "\n",
      "[1] C. Schwarz. 2023. (). \n",
      "    Estimating text regressions using txtreg_train\n",
      "    _Stata Journal_ 23(3)\n",
      "    Article page | [PDF] | [Google]\n",
      "\n",
      "    📚 Citation: BibTeX | RIS\n",
      "\n",
      "    Search for package | Browse SJ software\n",
      "[2] G. Cerulli. 2022. (). \n",
      "    Machine learning using Stata/Python\n",
      "    _Stata Journal_ 22(4)\n",
      "    Article page | [PDF] | [Google]\n",
      "\n",
      "    📚 Citation: BibTeX | RIS\n",
      "\n",
      "    Search for package | Browse SJ software\n",
      "[3] A. Gorst-Rasmussen. 2012. (). \n",
      "    tt: Treelet transform with Stata\n",
      "    _Stata Journal_ 12(1)\n",
      "    Article page | [PDF] | [Google]\n",
      "\n",
      "    📚 Citation: BibTeX | RIS\n",
      "\n",
      "    Search for package | Browse SJ software\n",
      "\n",
      "------------------------------------------------------------\n",
      "  Showing 3 of 10 results.\n",
      "  To see all results, add option: allresults\n",
      "  Example: findsj machine learning, allresults\n",
      "------------------------------------------------------------\n",
      "\n",
      "------------------------------------------------------------\n",
      "  Search completed. Found 10 article(s).\n",
      "  To view full search results online: Open in browser\n",
      "------------------------------------------------------------\n",
      "\n"
     ]
    }
   ],
   "source": [
    "findsj machine learning, n(3)"
   ]
  },
  {
   "cell_type": "markdown",
   "id": "209744af",
   "metadata": {},
   "source": [
    "## Example 4: Search by author\n",
    "\n",
    "Find articles by author \"Baum\""
   ]
  },
  {
   "cell_type": "code",
   "execution_count": 12,
   "id": "b1ae7af5",
   "metadata": {
    "vscode": {
     "languageId": "python"
    }
   },
   "outputs": [
    {
     "name": "stdout",
     "output_type": "stream",
     "text": [
      "\n",
      "------------------------------------------------------------\n",
      "  Searching Stata Journal articles...\n",
      "  Keywords: Baum\n",
      "  Search by: author\n",
      "------------------------------------------------------------\n",
      "\n",
      "Found 24 article(s).\n",
      "\n",
      "------------------------------------------------------------\n",
      "  Search Results (Showing 5 of 24)\n",
      "------------------------------------------------------------\n",
      "\n",
      "[1] C. F. Baum. 2007. (). \n",
      "    Stata tip 40: Taking care of business\n",
      "    _Stata Journal_ 7(1)\n",
      "    Article page | [PDF] | [Google]\n",
      "\n",
      "    📚 Citation: BibTeX | RIS\n",
      "\n",
      "    Search for package | Browse SJ software\n",
      "[2] C. F. Baum and N. J. Cox. 2007. (). \n",
      "    Stata tip 45: Getting those data into shape\n",
      "    _Stata Journal_ 7(2)\n",
      "    Article page | [PDF] | [Google]\n",
      "\n",
      "    📚 Citation: BibTeX | RIS\n",
      "\n",
      "    Search for package | Browse SJ software\n",
      "[3] C. F. Baum. 2009. (). \n",
      "    Stata tip 73: append with care!\n",
      "    _Stata Journal_ 9(1)\n",
      "    Article page | [PDF] | [Google]\n",
      "\n",
      "    📚 Citation: BibTeX | RIS\n",
      "\n",
      "    Search for package | Browse SJ software\n",
      "[4] C. F. Baum and S. Bibo. 2016. (). \n",
      "    Stata tip 126: Handling irregularly spaced high-frequency transactions data\n",
      "    _Stata Journal_ 16(2)\n",
      "    Article page | [PDF] | [Google]\n",
      "\n",
      "    📚 Citation: BibTeX | RIS\n",
      "\n",
      "    Search for package | Browse SJ software\n",
      "[5] C. F. Baum. 2006. (). \n",
      "    Stata tip 37: And the last shall be first\n",
      "    _Stata Journal_ 6(4)\n",
      "    Article page | [PDF] | [Google]\n",
      "\n",
      "    📚 Citation: BibTeX | RIS\n",
      "\n",
      "    Search for package | Browse SJ software\n",
      "\n",
      "------------------------------------------------------------\n",
      "  Showing 5 of 24 results.\n",
      "  To see all results, add option: allresults\n",
      "  Example: findsj Baum, allresults\n",
      "------------------------------------------------------------\n",
      "\n",
      "------------------------------------------------------------\n",
      "  Search completed. Found 24 article(s).\n",
      "  To view full search results online: Open in browser\n",
      "------------------------------------------------------------\n",
      "\n"
     ]
    }
   ],
   "source": [
    "findsj Baum, author"
   ]
  },
  {
   "cell_type": "markdown",
   "id": "5da6b315",
   "metadata": {},
   "source": [
    "## Example 5: Search by title\n",
    "\n",
    "Search for articles with \"treatment effects\" in title"
   ]
  },
  {
   "cell_type": "code",
   "execution_count": 13,
   "id": "7438830b",
   "metadata": {
    "vscode": {
     "languageId": "python"
    }
   },
   "outputs": [
    {
     "name": "stdout",
     "output_type": "stream",
     "text": [
      "\n",
      "------------------------------------------------------------\n",
      "  Searching Stata Journal articles...\n",
      "  Keywords: treatment effects\n",
      "  Search by: title\n",
      "------------------------------------------------------------\n",
      "\n",
      "Found 20 article(s).\n",
      "\n",
      "------------------------------------------------------------\n",
      "  Search Results (Showing 5 of 20)\n",
      "------------------------------------------------------------\n",
      "\n",
      "[1] S.O. Becker and A. Ichino. 2002. (). \n",
      "    Estimation of average treatment effects based on propensity scores\n",
      "    _Stata Journal_ 2(4)\n",
      "    Article page | [PDF] | [Google]\n",
      "\n",
      "    📚 Citation: BibTeX | RIS\n",
      "\n",
      "    Search for package | Browse SJ software\n",
      "[2] A. Abadie, D. Drukker, J. L. Herr, and G. W. Imbens. 2004. (). \n",
      "    Implementing matching estimators for average treatment effects in Stata\n",
      "    _Stata Journal_ 4(3)\n",
      "    Article page | [PDF] | [Google]\n",
      "\n",
      "    📚 Citation: BibTeX | RIS\n",
      "\n",
      "    Search for package | Browse SJ software\n",
      "[3] S. O. Becker and M. Caliendo. 2007. (). \n",
      "    Sensitivity analysis for average treatment effects\n",
      "    _Stata Journal_ 7(1)\n",
      "    Article page | [PDF] | [Google]\n",
      "\n",
      "    📚 Citation: BibTeX | RIS\n",
      "\n",
      "    Search for package | Browse SJ software\n",
      "[4] M. Fr&ouml;lich and B. Melly. 2010. (). \n",
      "    Estimation of quantile treatment effects with Stata\n",
      "    _Stata Journal_ 10(3)\n",
      "    Article page | [PDF] | [Google]\n",
      "\n",
      "    📚 Citation: BibTeX | RIS\n",
      "\n",
      "    Search for package | Browse SJ software\n",
      "[5] M. Cattaneo, D. Drukker, and A. Holland. 2013. (). \n",
      "    Estimation of multivalued treatment effects under conditional independence\n",
      "    _Stata Journal_ 13(3)\n",
      "    Article page | [PDF] | [Google]\n",
      "\n",
      "    📚 Citation: BibTeX | RIS\n",
      "\n",
      "    Search for package | Browse SJ software\n",
      "\n",
      "------------------------------------------------------------\n",
      "  Showing 5 of 20 results.\n",
      "  To see all results, add option: allresults\n",
      "  Example: findsj treatment effects, allresults\n",
      "------------------------------------------------------------\n",
      "\n",
      "------------------------------------------------------------\n",
      "  Search completed. Found 20 article(s).\n",
      "  To view full search results online: Open in browser\n",
      "------------------------------------------------------------\n",
      "\n"
     ]
    }
   ],
   "source": [
    "findsj treatment effects, title"
   ]
  },
  {
   "cell_type": "markdown",
   "id": "677bd15d",
   "metadata": {},
   "source": [
    "## Example 6: Export citations in Markdown format\n",
    "\n",
    "Export citations for \"propensity score\" articles in Markdown format"
   ]
  },
  {
   "cell_type": "code",
   "execution_count": 14,
   "id": "a50a4471",
   "metadata": {
    "vscode": {
     "languageId": "python"
    }
   },
   "outputs": [
    {
     "name": "stdout",
     "output_type": "stream",
     "text": [
      "\n",
      "------------------------------------------------------------\n",
      "  Searching Stata Journal articles...\n",
      "  Keywords: propensity score\n",
      "  Search by: keyword\n",
      "  Export format: markdown  \n",
      "------------------------------------------------------------\n",
      "\n",
      "Found 18 article(s).\n",
      "\n",
      "------------------------------------------------------------\n",
      "  Search Results (Showing 5 of 18)\n",
      "------------------------------------------------------------\n",
      "\n",
      "[1] R. Newson. 2006. (). \n",
      "    Confidence intervals for rank statistics: Somers' D and extensions\n",
      "    _Stata Journal_ 6(3)\n",
      "    Article page | [PDF] | [Google]\n",
      "    DOI: 10.1177/1536867X0600600302\n",
      "\n",
      "    📚 Citation: BibTeX | RIS\n",
      "\n",
      "    Search for package | Browse SJ software\n",
      "[2] R. Newson. 2006. (). \n",
      "    Confidence intervals for rank statistics: Percentile slopes, differences, a\n",
      "> nd ratios\n",
      "    _Stata Journal_ 6(4)\n",
      "    Article page | [PDF] | [Google]\n",
      "    DOI: 10.1177/1536867X0600600404\n",
      "\n",
      "    📚 Citation: BibTeX | RIS\n",
      "\n",
      "    Search for package | Browse SJ software\n",
      "[3] S.O. Becker and A. Ichino. 2002. (). \n",
      "    Estimation of average treatment effects based on propensity scores\n",
      "    _Stata Journal_ 2(4)\n",
      "    Article page | [PDF] | [Google]\n",
      "    DOI: 10.1177/1536867X0200200403\n",
      "\n",
      "    📚 Citation: BibTeX | RIS\n",
      "\n",
      "    Search for package | Browse SJ software\n",
      "[4] T. Nannicini. 2007. (). \n",
      "    Simulation-based sensitivity analysis for matching estimators\n",
      "    _Stata Journal_ 7(3)\n",
      "    Article page | [PDF] | [Google]\n",
      "    DOI: 10.1177/1536867X0700700303\n",
      "\n",
      "    📚 Citation: BibTeX | RIS\n",
      "\n",
      "    Search for package | Browse SJ software\n",
      "[5] A. Nichols. 2007. (). \n",
      "    Causal inference with observational data\n",
      "    _Stata Journal_ 7(4)\n",
      "    Article page | [PDF] | [Google]\n",
      "    DOI: 10.1177/1536867X0800700403\n",
      "\n",
      "    📚 Citation: BibTeX | RIS\n",
      "\n",
      "    Search for package | Browse SJ software\n",
      "\n",
      "------------------------------------------------------------\n",
      "  Showing 5 of 18 results.\n",
      "  To see all results, add option: allresults\n",
      "  Example: findsj propensity score, allresults\n",
      "------------------------------------------------------------\n",
      "\n",
      "→ Citations copied to clipboard in markdown   format.\n",
      "  (Copied 5 of 18 results. Use allresults to copy all)\n",
      "\n",
      "------------------------------------------------------------\n",
      "  Search completed. Found 18 article(s).\n",
      "  To view full search results online: Open in browser\n",
      "------------------------------------------------------------\n",
      "\n"
     ]
    }
   ],
   "source": [
    "findsj propensity score, markdown"
   ]
  },
  {
   "cell_type": "markdown",
   "id": "5707b54f",
   "metadata": {},
   "source": [
    "## Example 7: Get DOI information\n",
    "\n",
    "Search with real-time DOI fetching (slower but provides complete information)"
   ]
  },
  {
   "cell_type": "code",
   "execution_count": 16,
   "id": "8fafd592",
   "metadata": {
    "vscode": {
     "languageId": "python"
    }
   },
   "outputs": [
    {
     "name": "stdout",
     "output_type": "stream",
     "text": [
      "\n",
      "------------------------------------------------------------\n",
      "  Searching Stata Journal articles...\n",
      "  Keywords: causal inference\n",
      "  Search by: keyword\n",
      "------------------------------------------------------------\n",
      "\n",
      "Found 22 article(s).\n",
      "\n",
      "------------------------------------------------------------\n",
      "  Search Results (Showing 2 of 22)\n",
      "------------------------------------------------------------\n",
      "\n",
      "[1] A. Gelman. 2009. (). \n",
      "    A statistician's perspective on &ldquo;Mostly Harmless Econometrics:  An Em\n",
      "> piricist's Companion&rdquo;, by Joshua D. Angrist and J&ouml;rn-Steffen Pisch\n",
      "> ke\n",
      "    _Stata Journal_ 9(2)\n",
      "    Article page | [PDF] | [Google]\n",
      "    DOI: 10.1177/1536867X0900900210\n",
      "\n",
      "    📚 Citation: BibTeX | RIS\n",
      "\n",
      "    Search for package | Browse SJ software\n",
      "[2] S. Kripfganz. 2023. (). \n",
      "    Review of A. Colin Cameron and Pravin K. Trivedi's Microeconometrics Using \n",
      "> Stata, Second Edition\n",
      "    _Stata Journal_ 23(4)\n",
      "    Article page | [PDF] | [Google]\n",
      "    DOI: 10.1177/1536867X231212446\n",
      "\n",
      "    📚 Citation: BibTeX | RIS\n",
      "\n",
      "    Search for package | Browse SJ software\n",
      "\n",
      "------------------------------------------------------------\n",
      "  Showing 2 of 22 results.\n",
      "  To see all results, add option: allresults\n",
      "  Example: findsj causal inference, allresults\n",
      "------------------------------------------------------------\n",
      "\n",
      "------------------------------------------------------------\n",
      "  Search completed. Found 22 article(s).\n",
      "  To view full search results online: Open in browser\n",
      "------------------------------------------------------------\n",
      "\n"
     ]
    }
   ],
   "source": [
    "findsj causal inference, getdoi n(2)"
   ]
  },
  {
   "cell_type": "markdown",
   "id": "5487f44e",
   "metadata": {},
   "source": [
    "---\n",
    "\n",
    "## Summary of Options\n",
    "\n",
    "### Search scope options:\n",
    "- `keyword` - Search by keyword (default)\n",
    "- `author` - Search by author name\n",
    "- `title` - Search by article title\n",
    "\n",
    "### Display options:\n",
    "- `n(#)` - Maximum number of results to display (default: 5)\n",
    "- `allresults` - Show all results\n",
    "- `nobrowser` - Suppress clickable links\n",
    "- `nopdf` - Suppress PDF links\n",
    "- `nopkg` - Suppress package search links\n",
    "\n",
    "### Export options:\n",
    "- `markdown` - Export in Markdown format\n",
    "- `latex` (or `tex`) - Export in LaTeX format\n",
    "- `plain` - Export in plain text format\n",
    "- `noclip` - Don't copy to clipboard\n",
    "\n",
    "### Advanced options:\n",
    "- `getdoi` - Fetch real-time DOI from Stata Journal (slower)\n",
    "- `debug` - Show debugging information\n",
    "\n",
    "---\n",
    "\n",
    "## Additional Resources\n",
    "\n",
    "- **GitHub**: https://github.com/BlueDayDreeaming/findsj\n",
    "- **Gitee**: https://gitee.com/ChuChengWan/findsj\n",
    "- **Help file**: `help findsj`\n",
    "- **Contact**: arlionn@163.com, chucheng.wan@outlook.com\n",
    "\n",
    "---\n",
    "\n",
    "*Examples completed successfully*"
   ]
  }
 ],
 "metadata": {
  "kernelspec": {
   "display_name": "Stata (nbstata)",
   "language": "stata",
   "name": "nbstata"
  },
  "language_info": {
   "file_extension": ".do",
   "mimetype": "text/x-stata",
   "name": "stata",
   "version": "17"
  }
 },
 "nbformat": 4,
 "nbformat_minor": 5
}
